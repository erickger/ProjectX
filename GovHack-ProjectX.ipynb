{
 "cells": [
  {
   "cell_type": "code",
   "execution_count": 182,
   "metadata": {},
   "outputs": [],
   "source": [
    "import pandas as pd\n",
    "import xarray as xr\n",
    "import requests\n",
    "import codecs\n",
    "from urllib.request import urlopen\n",
    "import csv\n",
    "import json\n",
    "from pandas.io.json import json_normalize"
   ]
  },
  {
   "cell_type": "markdown",
   "metadata": {},
   "source": [
    "**1.** Processing TERN Datasets"
   ]
  },
  {
   "cell_type": "markdown",
   "metadata": {},
   "source": [
    "We have collected key information from observatories in all the states from REM. For more information please see our video or fin our datasets in our Project directory"
   ]
  },
  {
   "cell_type": "code",
   "execution_count": 183,
   "metadata": {},
   "outputs": [],
   "source": [
    "tern_file_names = {'SA':'Calperum_2019_L6_SA.nc', \n",
    "                   'QLD':'CowBay_2019_L3_QLD.nc', \n",
    "                   'ACT':'CumberlandPlain_2019_L3_NSW_ACT.nc',\n",
    "                   'NSW':'CumberlandPlain_2019_L3_NSW_ACT.nc',\n",
    "                   'VIC':'Otway_2010_L3_VIC.nc', \n",
    "                   'WA':'Ridgefield_2019_L3_WA.nc',\n",
    "                   'NT':'SturtPlains_2019_L3_NT.nc'}"
   ]
  },
  {
   "cell_type": "code",
   "execution_count": 226,
   "metadata": {},
   "outputs": [],
   "source": [
    "idx = 0\n",
    "states = ['SA', 'QLD', 'ACT', 'NSW', 'VIC', 'WA', 'NT']\n",
    "for state in states:\n",
    "    ds_tern = xr.open_dataset(\"..\\\\data\\\\TERN Datasets\\\\\" + tern_file_names[state])\n",
    "    df_temp = ds_tern.to_dataframe()\n",
    "    df_temp.reset_index(level=0, inplace=True)\n",
    "    df_temp.reset_index(level=0, inplace=True)\n",
    "    df_temp.reset_index(level=0, inplace=True)\n",
    "    df_temp.rename(columns={'time':'datetime'}, inplace=True)\n",
    "    df_temp.datetime = df_temp.datetime.astype(str)\n",
    "    datetime = df_temp['datetime'].str.split(' ', expand = True)\n",
    "    df_temp['date'] = datetime[0] \n",
    "    df_temp['time'] = datetime[1]\n",
    "    df_temp.drop(columns =['datetime'], inplace = True)\n",
    "    if 'CO2' in list(df_temp.columns):\n",
    "        df_temp.rename(columns={'CO2':'Cc'}, inplace=True)\n",
    "    df_temp = df_temp[['Cc', 'Ah', 'Cpd', 'Cpm', 'Fc', 'Precip', 'Ta', 'UxUx', 'date', 'time']]\n",
    "    df_temp['state'] = state\n",
    "    df_temp['state_code'] = idx\n",
    "    \n",
    "    if idx==0:\n",
    "        df_tern = df_temp.copy()\n",
    "        idx += 1\n",
    "    else:\n",
    "        df_tern = df_tern.append(df_temp)"
   ]
  },
  {
   "cell_type": "code",
   "execution_count": 185,
   "metadata": {},
   "outputs": [
    {
     "name": "stdout",
     "output_type": "stream",
     "text": [
      "Cc, Ah, Cpd, Cpm, Fc, Precip, Ta, UxUx, date, time, state, "
     ]
    }
   ],
   "source": [
    "for c in list(df_tern.columns):\n",
    "    print(c, end=', ')"
   ]
  },
  {
   "cell_type": "code",
   "execution_count": 227,
   "metadata": {},
   "outputs": [
    {
     "data": {
      "text/html": [
       "<div>\n",
       "<style scoped>\n",
       "    .dataframe tbody tr th:only-of-type {\n",
       "        vertical-align: middle;\n",
       "    }\n",
       "\n",
       "    .dataframe tbody tr th {\n",
       "        vertical-align: top;\n",
       "    }\n",
       "\n",
       "    .dataframe thead th {\n",
       "        text-align: right;\n",
       "    }\n",
       "</style>\n",
       "<table border=\"1\" class=\"dataframe\">\n",
       "  <thead>\n",
       "    <tr style=\"text-align: right;\">\n",
       "      <th></th>\n",
       "      <th>Cc</th>\n",
       "      <th>Ah</th>\n",
       "      <th>Cpd</th>\n",
       "      <th>Cpm</th>\n",
       "      <th>Fc</th>\n",
       "      <th>Precip</th>\n",
       "      <th>Ta</th>\n",
       "      <th>UxUx</th>\n",
       "      <th>date</th>\n",
       "      <th>time</th>\n",
       "      <th>state</th>\n",
       "      <th>state_code</th>\n",
       "    </tr>\n",
       "  </thead>\n",
       "  <tbody>\n",
       "    <tr>\n",
       "      <td>0</td>\n",
       "      <td>388.877528</td>\n",
       "      <td>7.291486</td>\n",
       "      <td>1005.557963</td>\n",
       "      <td>1009.827887</td>\n",
       "      <td>0.517039</td>\n",
       "      <td>0.0</td>\n",
       "      <td>19.00163</td>\n",
       "      <td>0.624214</td>\n",
       "      <td>2019-01-01</td>\n",
       "      <td>00:30:00</td>\n",
       "      <td>SA</td>\n",
       "      <td>0</td>\n",
       "    </tr>\n",
       "    <tr>\n",
       "      <td>1</td>\n",
       "      <td>388.924503</td>\n",
       "      <td>7.544990</td>\n",
       "      <td>1005.540848</td>\n",
       "      <td>1009.996043</td>\n",
       "      <td>0.604932</td>\n",
       "      <td>0.0</td>\n",
       "      <td>18.28068</td>\n",
       "      <td>0.538050</td>\n",
       "      <td>2019-01-01</td>\n",
       "      <td>01:00:00</td>\n",
       "      <td>SA</td>\n",
       "      <td>0</td>\n",
       "    </tr>\n",
       "    <tr>\n",
       "      <td>2</td>\n",
       "      <td>389.012170</td>\n",
       "      <td>7.832389</td>\n",
       "      <td>1005.526767</td>\n",
       "      <td>1010.190508</td>\n",
       "      <td>0.480547</td>\n",
       "      <td>0.0</td>\n",
       "      <td>17.71246</td>\n",
       "      <td>0.732907</td>\n",
       "      <td>2019-01-01</td>\n",
       "      <td>01:30:00</td>\n",
       "      <td>SA</td>\n",
       "      <td>0</td>\n",
       "    </tr>\n",
       "    <tr>\n",
       "      <td>3</td>\n",
       "      <td>388.829733</td>\n",
       "      <td>8.187747</td>\n",
       "      <td>1005.516275</td>\n",
       "      <td>1010.435139</td>\n",
       "      <td>0.515800</td>\n",
       "      <td>0.0</td>\n",
       "      <td>17.25270</td>\n",
       "      <td>0.706021</td>\n",
       "      <td>2019-01-01</td>\n",
       "      <td>02:00:00</td>\n",
       "      <td>SA</td>\n",
       "      <td>0</td>\n",
       "    </tr>\n",
       "    <tr>\n",
       "      <td>4</td>\n",
       "      <td>388.674361</td>\n",
       "      <td>8.518704</td>\n",
       "      <td>1005.506944</td>\n",
       "      <td>1010.659730</td>\n",
       "      <td>0.575092</td>\n",
       "      <td>0.0</td>\n",
       "      <td>16.84138</td>\n",
       "      <td>0.783208</td>\n",
       "      <td>2019-01-01</td>\n",
       "      <td>02:30:00</td>\n",
       "      <td>SA</td>\n",
       "      <td>0</td>\n",
       "    </tr>\n",
       "  </tbody>\n",
       "</table>\n",
       "</div>"
      ],
      "text/plain": [
       "           Cc        Ah          Cpd          Cpm        Fc  Precip        Ta  \\\n",
       "0  388.877528  7.291486  1005.557963  1009.827887  0.517039     0.0  19.00163   \n",
       "1  388.924503  7.544990  1005.540848  1009.996043  0.604932     0.0  18.28068   \n",
       "2  389.012170  7.832389  1005.526767  1010.190508  0.480547     0.0  17.71246   \n",
       "3  388.829733  8.187747  1005.516275  1010.435139  0.515800     0.0  17.25270   \n",
       "4  388.674361  8.518704  1005.506944  1010.659730  0.575092     0.0  16.84138   \n",
       "\n",
       "       UxUx        date      time state  state_code  \n",
       "0  0.624214  2019-01-01  00:30:00    SA           0  \n",
       "1  0.538050  2019-01-01  01:00:00    SA           0  \n",
       "2  0.732907  2019-01-01  01:30:00    SA           0  \n",
       "3  0.706021  2019-01-01  02:00:00    SA           0  \n",
       "4  0.783208  2019-01-01  02:30:00    SA           0  "
      ]
     },
     "execution_count": 227,
     "metadata": {},
     "output_type": "execute_result"
    }
   ],
   "source": [
    "df_tern.head()"
   ]
  },
  {
   "cell_type": "code",
   "execution_count": 56,
   "metadata": {},
   "outputs": [
    {
     "data": {
      "text/plain": [
       "array(['SA', 'QLD', 'ACT', 'VIC', 'WA', 'NT'], dtype=object)"
      ]
     },
     "execution_count": 56,
     "metadata": {},
     "output_type": "execute_result"
    }
   ],
   "source": [
    "df_tern.state.unique()"
   ]
  },
  {
   "cell_type": "code",
   "execution_count": 64,
   "metadata": {},
   "outputs": [],
   "source": [
    "df_tern.to_csv('tern_data.csv', index=False)"
   ]
  },
  {
   "cell_type": "markdown",
   "metadata": {},
   "source": [
    "**2.** Processing IMO Datasets"
   ]
  },
  {
   "cell_type": "markdown",
   "metadata": {},
   "source": [
    "We have used IMO datasets for understanding the ocean and its effects in climate change"
   ]
  },
  {
   "cell_type": "code",
   "execution_count": 84,
   "metadata": {},
   "outputs": [
    {
     "data": {
      "text/html": [
       "<div>\n",
       "<style scoped>\n",
       "    .dataframe tbody tr th:only-of-type {\n",
       "        vertical-align: middle;\n",
       "    }\n",
       "\n",
       "    .dataframe tbody tr th {\n",
       "        vertical-align: top;\n",
       "    }\n",
       "\n",
       "    .dataframe thead th {\n",
       "        text-align: right;\n",
       "    }\n",
       "</style>\n",
       "<table border=\"1\" class=\"dataframe\">\n",
       "  <thead>\n",
       "    <tr style=\"text-align: right;\">\n",
       "      <th></th>\n",
       "      <th>data_centre_name</th>\n",
       "      <th>oxygen_sensor</th>\n",
       "      <th>platform_number</th>\n",
       "      <th>cycle_number</th>\n",
       "      <th>direction</th>\n",
       "      <th>data_state_indicator</th>\n",
       "      <th>data_mode</th>\n",
       "      <th>juld</th>\n",
       "      <th>juld_qc</th>\n",
       "      <th>juld_location</th>\n",
       "      <th>...</th>\n",
       "      <th>temp</th>\n",
       "      <th>temp_qc</th>\n",
       "      <th>temp_adjusted</th>\n",
       "      <th>temp_adjusted_qc</th>\n",
       "      <th>temp_adjusted_error</th>\n",
       "      <th>psal</th>\n",
       "      <th>psal_qc</th>\n",
       "      <th>psal_adjusted</th>\n",
       "      <th>psal_adjusted_qc</th>\n",
       "      <th>psal_adjusted_error</th>\n",
       "    </tr>\n",
       "  </thead>\n",
       "  <tbody>\n",
       "    <tr>\n",
       "      <td>0</td>\n",
       "      <td>JMA</td>\n",
       "      <td>False</td>\n",
       "      <td>5900807</td>\n",
       "      <td>1</td>\n",
       "      <td>A</td>\n",
       "      <td>2C</td>\n",
       "      <td>D</td>\n",
       "      <td>2005-01-30T04:46:07Z</td>\n",
       "      <td>1</td>\n",
       "      <td>2005-01-30T06:22:52Z</td>\n",
       "      <td>...</td>\n",
       "      <td>8.596</td>\n",
       "      <td>1</td>\n",
       "      <td>8.596</td>\n",
       "      <td>1</td>\n",
       "      <td>0.002</td>\n",
       "      <td>34.111</td>\n",
       "      <td>1</td>\n",
       "      <td>34.111</td>\n",
       "      <td>1</td>\n",
       "      <td>0.01</td>\n",
       "    </tr>\n",
       "    <tr>\n",
       "      <td>1</td>\n",
       "      <td>JMA</td>\n",
       "      <td>False</td>\n",
       "      <td>5900807</td>\n",
       "      <td>1</td>\n",
       "      <td>A</td>\n",
       "      <td>2C</td>\n",
       "      <td>D</td>\n",
       "      <td>2005-01-30T04:46:07Z</td>\n",
       "      <td>1</td>\n",
       "      <td>2005-01-30T06:22:52Z</td>\n",
       "      <td>...</td>\n",
       "      <td>8.590</td>\n",
       "      <td>1</td>\n",
       "      <td>8.590</td>\n",
       "      <td>1</td>\n",
       "      <td>0.002</td>\n",
       "      <td>34.112</td>\n",
       "      <td>1</td>\n",
       "      <td>34.112</td>\n",
       "      <td>1</td>\n",
       "      <td>0.01</td>\n",
       "    </tr>\n",
       "    <tr>\n",
       "      <td>2</td>\n",
       "      <td>JMA</td>\n",
       "      <td>False</td>\n",
       "      <td>5900807</td>\n",
       "      <td>1</td>\n",
       "      <td>A</td>\n",
       "      <td>2C</td>\n",
       "      <td>D</td>\n",
       "      <td>2005-01-30T04:46:07Z</td>\n",
       "      <td>1</td>\n",
       "      <td>2005-01-30T06:22:52Z</td>\n",
       "      <td>...</td>\n",
       "      <td>8.592</td>\n",
       "      <td>1</td>\n",
       "      <td>8.592</td>\n",
       "      <td>1</td>\n",
       "      <td>0.002</td>\n",
       "      <td>34.113</td>\n",
       "      <td>1</td>\n",
       "      <td>34.113</td>\n",
       "      <td>1</td>\n",
       "      <td>0.01</td>\n",
       "    </tr>\n",
       "  </tbody>\n",
       "</table>\n",
       "<p>3 rows × 34 columns</p>\n",
       "</div>"
      ],
      "text/plain": [
       "  data_centre_name  oxygen_sensor  platform_number  cycle_number direction  \\\n",
       "0              JMA          False          5900807             1         A   \n",
       "1              JMA          False          5900807             1         A   \n",
       "2              JMA          False          5900807             1         A   \n",
       "\n",
       "  data_state_indicator data_mode                  juld  juld_qc  \\\n",
       "0                   2C         D  2005-01-30T04:46:07Z        1   \n",
       "1                   2C         D  2005-01-30T04:46:07Z        1   \n",
       "2                   2C         D  2005-01-30T04:46:07Z        1   \n",
       "\n",
       "          juld_location  ...   temp  temp_qc  temp_adjusted temp_adjusted_qc  \\\n",
       "0  2005-01-30T06:22:52Z  ...  8.596        1          8.596                1   \n",
       "1  2005-01-30T06:22:52Z  ...  8.590        1          8.590                1   \n",
       "2  2005-01-30T06:22:52Z  ...  8.592        1          8.592                1   \n",
       "\n",
       "  temp_adjusted_error    psal psal_qc  psal_adjusted  psal_adjusted_qc  \\\n",
       "0               0.002  34.111       1         34.111                 1   \n",
       "1               0.002  34.112       1         34.112                 1   \n",
       "2               0.002  34.113       1         34.113                 1   \n",
       "\n",
       "   psal_adjusted_error  \n",
       "0                 0.01  \n",
       "1                 0.01  \n",
       "2                 0.01  \n",
       "\n",
       "[3 rows x 34 columns]"
      ]
     },
     "execution_count": 84,
     "metadata": {},
     "output_type": "execute_result"
    }
   ],
   "source": [
    "df_imos_profiles = pd.read_csv(\"..\\\\data\\\\IMOS Datasets\\\\IMOS_Argo_Profiles.csv\", low_memory=False)\n",
    "df_imos_phytoplankton = pd.read_csv(\"..\\\\data\\\\IMOS Datasets\\\\IMOS_Phytoplankton_Abundance.csv\", low_memory=False)\n",
    "df_imos_reef = pd.read_csv(\"..\\\\data\\\\IMOS Datasets\\\\IMOS_Reef_Life_Survey.csv\", low_memory=False)\n",
    "df_imos_waves = pd.read_csv(\"..\\\\data\\\\IMOS Datasets\\\\IMOS_Waverider_buoys_Observations.csv\", low_memory=False)\n",
    "df_imos_profiles.iloc[:,3:].head(3)"
   ]
  },
  {
   "cell_type": "markdown",
   "metadata": {},
   "source": [
    "**3.** Processing City of Darwing Datasets"
   ]
  },
  {
   "cell_type": "markdown",
   "metadata": {},
   "source": [
    "This will help us showcase an state in Australia and its levels in pollution. The other data is collected via IoT devices from the observatories in ground and sea that are mentioned in the IMOS and TERN datasets"
   ]
  },
  {
   "cell_type": "code",
   "execution_count": 86,
   "metadata": {},
   "outputs": [],
   "source": [
    "df_NO2 = pd.read_csv(\"..\\\\data\\\\City of Darwin\\\\City_of_Darwin_NO2_IoT.csv\", low_memory=False)\n",
    "df_O3 = pd.read_csv(\"..\\\\data\\\\City of Darwin\\\\City_of_Darwin_O3_IoT.csv\", low_memory=False)\n",
    "df_PM1 = pd.read_csv(\"..\\\\data\\\\City of Darwin\\\\City_of_Darwin_PM1_IoT.csv\", low_memory=False)\n",
    "df_PM25 = pd.read_csv(\"..\\\\data\\\\City of Darwin\\\\City_of_Darwin_PM2_5_IoT.csv\", low_memory=False)\n",
    "df_PM10 = pd.read_csv(\"..\\\\data\\\\City of Darwin\\\\City_of_Darwin_PM10_IoT.csv\", low_memory=False)"
   ]
  },
  {
   "cell_type": "code",
   "execution_count": 87,
   "metadata": {},
   "outputs": [
    {
     "data": {
      "text/html": [
       "<div>\n",
       "<style scoped>\n",
       "    .dataframe tbody tr th:only-of-type {\n",
       "        vertical-align: middle;\n",
       "    }\n",
       "\n",
       "    .dataframe tbody tr th {\n",
       "        vertical-align: top;\n",
       "    }\n",
       "\n",
       "    .dataframe thead th {\n",
       "        text-align: right;\n",
       "    }\n",
       "</style>\n",
       "<table border=\"1\" class=\"dataframe\">\n",
       "  <thead>\n",
       "    <tr style=\"text-align: right;\">\n",
       "      <th></th>\n",
       "      <th>time</th>\n",
       "      <th>source</th>\n",
       "      <th>device_name</th>\n",
       "      <th>fragment_series</th>\n",
       "      <th>value</th>\n",
       "      <th>unit</th>\n",
       "      <th>ObjectId</th>\n",
       "    </tr>\n",
       "  </thead>\n",
       "  <tbody>\n",
       "    <tr>\n",
       "      <td>0</td>\n",
       "      <td>2019-08-02T00:42:20.059Z</td>\n",
       "      <td>11889</td>\n",
       "      <td>MQTT Device 5B5218FDC337DEC0</td>\n",
       "      <td>NO2.v</td>\n",
       "      <td>0.000</td>\n",
       "      <td>ppm</td>\n",
       "      <td>1</td>\n",
       "    </tr>\n",
       "    <tr>\n",
       "      <td>1</td>\n",
       "      <td>2019-07-31T21:43:46.082Z</td>\n",
       "      <td>11889</td>\n",
       "      <td>MQTT Device 5B5218FDC337DEC0</td>\n",
       "      <td>NO2.v</td>\n",
       "      <td>0.000</td>\n",
       "      <td>ppm</td>\n",
       "      <td>2</td>\n",
       "    </tr>\n",
       "    <tr>\n",
       "      <td>2</td>\n",
       "      <td>2019-07-25T15:43:40.429Z</td>\n",
       "      <td>12110</td>\n",
       "      <td>MQTT Device 3B6E10FDC337DE73</td>\n",
       "      <td>NO2.v</td>\n",
       "      <td>0.000</td>\n",
       "      <td>ppm</td>\n",
       "      <td>3</td>\n",
       "    </tr>\n",
       "    <tr>\n",
       "      <td>3</td>\n",
       "      <td>2019-07-15T23:07:23.769Z</td>\n",
       "      <td>11889</td>\n",
       "      <td>MQTT Device 5B5218FDC337DEC0</td>\n",
       "      <td>NO2.v</td>\n",
       "      <td>0.001</td>\n",
       "      <td>ppm</td>\n",
       "      <td>4</td>\n",
       "    </tr>\n",
       "    <tr>\n",
       "      <td>4</td>\n",
       "      <td>2019-08-16T15:59:53.798Z</td>\n",
       "      <td>11889</td>\n",
       "      <td>MQTT Device 5B5218FDC337DEC0</td>\n",
       "      <td>NO2.v</td>\n",
       "      <td>0.011</td>\n",
       "      <td>ppm</td>\n",
       "      <td>5</td>\n",
       "    </tr>\n",
       "  </tbody>\n",
       "</table>\n",
       "</div>"
      ],
      "text/plain": [
       "                       time  source                   device_name  \\\n",
       "0  2019-08-02T00:42:20.059Z   11889  MQTT Device 5B5218FDC337DEC0   \n",
       "1  2019-07-31T21:43:46.082Z   11889  MQTT Device 5B5218FDC337DEC0   \n",
       "2  2019-07-25T15:43:40.429Z   12110  MQTT Device 3B6E10FDC337DE73   \n",
       "3  2019-07-15T23:07:23.769Z   11889  MQTT Device 5B5218FDC337DEC0   \n",
       "4  2019-08-16T15:59:53.798Z   11889  MQTT Device 5B5218FDC337DEC0   \n",
       "\n",
       "  fragment_series  value unit  ObjectId  \n",
       "0           NO2.v  0.000  ppm         1  \n",
       "1           NO2.v  0.000  ppm         2  \n",
       "2           NO2.v  0.000  ppm         3  \n",
       "3           NO2.v  0.001  ppm         4  \n",
       "4           NO2.v  0.011  ppm         5  "
      ]
     },
     "execution_count": 87,
     "metadata": {},
     "output_type": "execute_result"
    }
   ],
   "source": [
    "df_NO2.head()"
   ]
  },
  {
   "cell_type": "code",
   "execution_count": 88,
   "metadata": {},
   "outputs": [],
   "source": [
    "# Columns in each dataframe"
   ]
  },
  {
   "cell_type": "markdown",
   "metadata": {},
   "source": [
    "**4.** Processing Victoria Agricultural Data from API"
   ]
  },
  {
   "cell_type": "markdown",
   "metadata": {},
   "source": [
    "We have used the API to extract random point in Melourne for understanding the soild in this area. We use this state for showcasing our approach on climate change and how it also affects farming and life"
   ]
  },
  {
   "cell_type": "code",
   "execution_count": 141,
   "metadata": {},
   "outputs": [],
   "source": [
    "# This is an example of extraction from a point \n",
    "api_token = 'd136686e-228b-405b-a01a-6f8ee13600dd'\n",
    "api_url_base = 'https://api.vic.gov.au:443/avr/soils-api/v1.0/estimates?wgs84_east=145.937310&wgs84_north=-38.245853'\n",
    "headers = {'apikey':'d136686e-228b-405b-a01a-6f8ee13600dd'}"
   ]
  },
  {
   "cell_type": "code",
   "execution_count": 144,
   "metadata": {},
   "outputs": [],
   "source": [
    "response = requests.get('https://api.vic.gov.au:443/avr/soils-api/v1.0/estimates?wgs84_east=145.937310&wgs84_north=-38.245853', \n",
    "                        headers={'apikey':'d136686e-228b-405b-a01a-6f8ee13600dd'})"
   ]
  },
  {
   "cell_type": "code",
   "execution_count": 147,
   "metadata": {},
   "outputs": [],
   "source": [
    "json_data = json.loads(response.text)"
   ]
  },
  {
   "cell_type": "code",
   "execution_count": 156,
   "metadata": {},
   "outputs": [
    {
     "data": {
      "text/html": [
       "<div>\n",
       "<style scoped>\n",
       "    .dataframe tbody tr th:only-of-type {\n",
       "        vertical-align: middle;\n",
       "    }\n",
       "\n",
       "    .dataframe tbody tr th {\n",
       "        vertical-align: top;\n",
       "    }\n",
       "\n",
       "    .dataframe thead th {\n",
       "        text-align: right;\n",
       "    }\n",
       "</style>\n",
       "<table border=\"1\" class=\"dataframe\">\n",
       "  <thead>\n",
       "    <tr style=\"text-align: right;\">\n",
       "      <th></th>\n",
       "      <th>asc_oso.code</th>\n",
       "      <th>asc_oso.text</th>\n",
       "      <th>clay.description</th>\n",
       "      <th>clay.topsoil</th>\n",
       "      <th>clay.topsoil_stddev</th>\n",
       "      <th>clay.subsoil</th>\n",
       "      <th>clay.subsoil_stddev</th>\n",
       "      <th>ph.description</th>\n",
       "      <th>ph.topsoil</th>\n",
       "      <th>ph.topsoil_stddev</th>\n",
       "      <th>...</th>\n",
       "      <th>organic_carbon.subsoil_stddev</th>\n",
       "      <th>electrical_conductivity.description</th>\n",
       "      <th>electrical_conductivity.topsoil</th>\n",
       "      <th>electrical_conductivity.topsoil_stddev</th>\n",
       "      <th>electrical_conductivity.subsoil</th>\n",
       "      <th>electrical_conductivity.subsoil_stddev</th>\n",
       "      <th>soil_texture_topsoil.code</th>\n",
       "      <th>soil_texture_topsoil.text</th>\n",
       "      <th>soil_texture_subsoil.code</th>\n",
       "      <th>soil_texture_subsoil.text</th>\n",
       "    </tr>\n",
       "  </thead>\n",
       "  <tbody>\n",
       "    <tr>\n",
       "      <td>0</td>\n",
       "      <td>FEAA</td>\n",
       "      <td>Red Ferrosol</td>\n",
       "      <td>clay percentage</td>\n",
       "      <td>19.17</td>\n",
       "      <td>6.33</td>\n",
       "      <td>30.5</td>\n",
       "      <td>7.7</td>\n",
       "      <td>ph value</td>\n",
       "      <td>6.27</td>\n",
       "      <td>0.36</td>\n",
       "      <td>...</td>\n",
       "      <td>0.0</td>\n",
       "      <td>electrical conductivity value</td>\n",
       "      <td>19.17</td>\n",
       "      <td>6.33</td>\n",
       "      <td>0.0</td>\n",
       "      <td>0.0</td>\n",
       "      <td>CL</td>\n",
       "      <td>Clay Loam</td>\n",
       "      <td>SC</td>\n",
       "      <td>Sandy Clay</td>\n",
       "    </tr>\n",
       "  </tbody>\n",
       "</table>\n",
       "<p>1 rows × 26 columns</p>\n",
       "</div>"
      ],
      "text/plain": [
       "  asc_oso.code  asc_oso.text clay.description  clay.topsoil  \\\n",
       "0         FEAA  Red Ferrosol  clay percentage         19.17   \n",
       "\n",
       "   clay.topsoil_stddev  clay.subsoil  clay.subsoil_stddev ph.description  \\\n",
       "0                 6.33          30.5                  7.7       ph value   \n",
       "\n",
       "   ph.topsoil  ph.topsoil_stddev  ...  organic_carbon.subsoil_stddev  \\\n",
       "0        6.27               0.36  ...                            0.0   \n",
       "\n",
       "   electrical_conductivity.description electrical_conductivity.topsoil  \\\n",
       "0        electrical conductivity value                           19.17   \n",
       "\n",
       "   electrical_conductivity.topsoil_stddev  electrical_conductivity.subsoil  \\\n",
       "0                                    6.33                              0.0   \n",
       "\n",
       "   electrical_conductivity.subsoil_stddev  soil_texture_topsoil.code  \\\n",
       "0                                     0.0                         CL   \n",
       "\n",
       "  soil_texture_topsoil.text  soil_texture_subsoil.code  \\\n",
       "0                 Clay Loam                         SC   \n",
       "\n",
       "   soil_texture_subsoil.text  \n",
       "0                 Sandy Clay  \n",
       "\n",
       "[1 rows x 26 columns]"
      ]
     },
     "execution_count": 156,
     "metadata": {},
     "output_type": "execute_result"
    }
   ],
   "source": [
    "df_soil = json_normalize(json_data['estimates'])\n",
    "df_soil.head()"
   ]
  },
  {
   "cell_type": "code",
   "execution_count": 164,
   "metadata": {},
   "outputs": [
    {
     "name": "stdout",
     "output_type": "stream",
     "text": [
      "00000000edac 19.0 -37.775568341276845 142.0001144653371\n",
      "000000004b46 53.0 -37.7709726746056 142.0073998017869\n",
      "000000001bf2 70.0 -37.77305030511105 142.00774014193854\n",
      "0000000063b3 77.0 -37.77971088305568 142.0094686146119\n",
      "00000000e274 70.0 -37.77394344974804 142.00658133798126\n",
      "0000000097d4 61.0 -37.7750671701654 142.0052626069132\n",
      "00000000374d 28.0 -37.7714339841155 142.0029967663387\n",
      "00000000b7c2 37.0 -37.77078567494598 142.00724096629997\n",
      "00000000eb76 18.0 -37.77400074118767 142.0091293879801\n",
      "000000000147 87.0 -37.77079482443528 142.0062737339102\n"
     ]
    }
   ],
   "source": [
    "# Creating random points for checking soil\n",
    "import random\n",
    "import sys\n",
    "import math\n",
    "\n",
    "latitude = 142.0\n",
    "longitude = -37.78\n",
    "\n",
    "def generate_random_data(lat, lon, num_rows):\n",
    "    for _ in range(num_rows):\n",
    "        hex1 = '%012x' % random.randrange(16**4) # 12 char random string\n",
    "        flt = float(random.randint(0,100))\n",
    "        dec_lat = random.random()/100\n",
    "        dec_lon = random.random()/100\n",
    "        print(str(hex1.lower()) + ' ' + str(flt) + ' ' + str(lon+dec_lon) + ' ' + str(lat+dec_lat))\n",
    "\n",
    "generate_random_data(latitude, longitude, 10)"
   ]
  },
  {
   "cell_type": "markdown",
   "metadata": {},
   "source": [
    "**5.** Showcasing Dimentionality reduction for datasets"
   ]
  },
  {
   "cell_type": "markdown",
   "metadata": {},
   "source": [
    "This showsthow methos for dimentionality reduction for later clustering application. The methods used here are PCA and LDA, being LDA the best show case. We can see how, in this case, CO2 in certain levels agrupates for different states"
   ]
  },
  {
   "cell_type": "code",
   "execution_count": 178,
   "metadata": {},
   "outputs": [
    {
     "data": {
      "text/html": [
       "<div>\n",
       "<style scoped>\n",
       "    .dataframe tbody tr th:only-of-type {\n",
       "        vertical-align: middle;\n",
       "    }\n",
       "\n",
       "    .dataframe tbody tr th {\n",
       "        vertical-align: top;\n",
       "    }\n",
       "\n",
       "    .dataframe thead th {\n",
       "        text-align: right;\n",
       "    }\n",
       "</style>\n",
       "<table border=\"1\" class=\"dataframe\">\n",
       "  <thead>\n",
       "    <tr style=\"text-align: right;\">\n",
       "      <th></th>\n",
       "      <th>Cc</th>\n",
       "      <th>Ah</th>\n",
       "      <th>Cpd</th>\n",
       "      <th>Cpm</th>\n",
       "      <th>Fc</th>\n",
       "      <th>Precip</th>\n",
       "      <th>Ta</th>\n",
       "      <th>UxUx</th>\n",
       "    </tr>\n",
       "  </thead>\n",
       "  <tbody>\n",
       "    <tr>\n",
       "      <td>count</td>\n",
       "      <td>54547.000000</td>\n",
       "      <td>54110.000000</td>\n",
       "      <td>54547.000000</td>\n",
       "      <td>54110.000000</td>\n",
       "      <td>54095.000000</td>\n",
       "      <td>54439.000000</td>\n",
       "      <td>54120.000000</td>\n",
       "      <td>54547.000000</td>\n",
       "    </tr>\n",
       "    <tr>\n",
       "      <td>mean</td>\n",
       "      <td>387.046948</td>\n",
       "      <td>-21.612224</td>\n",
       "      <td>990.035044</td>\n",
       "      <td>1005.033471</td>\n",
       "      <td>-2171.120089</td>\n",
       "      <td>0.015144</td>\n",
       "      <td>13.030274</td>\n",
       "      <td>-76.884534</td>\n",
       "    </tr>\n",
       "    <tr>\n",
       "      <td>std</td>\n",
       "      <td>28.343578</td>\n",
       "      <td>558.491735</td>\n",
       "      <td>413.171413</td>\n",
       "      <td>267.700634</td>\n",
       "      <td>4121.935023</td>\n",
       "      <td>0.176173</td>\n",
       "      <td>243.648554</td>\n",
       "      <td>878.214313</td>\n",
       "    </tr>\n",
       "    <tr>\n",
       "      <td>min</td>\n",
       "      <td>275.125928</td>\n",
       "      <td>-9999.000000</td>\n",
       "      <td>-9999.000000</td>\n",
       "      <td>-9999.000000</td>\n",
       "      <td>-9999.000000</td>\n",
       "      <td>0.000000</td>\n",
       "      <td>-9999.000000</td>\n",
       "      <td>-9999.000000</td>\n",
       "    </tr>\n",
       "    <tr>\n",
       "      <td>25%</td>\n",
       "      <td>365.902966</td>\n",
       "      <td>6.602857</td>\n",
       "      <td>1005.425000</td>\n",
       "      <td>1009.282747</td>\n",
       "      <td>-13.327562</td>\n",
       "      <td>0.000000</td>\n",
       "      <td>13.054928</td>\n",
       "      <td>0.157268</td>\n",
       "    </tr>\n",
       "    <tr>\n",
       "      <td>50%</td>\n",
       "      <td>391.328154</td>\n",
       "      <td>8.655280</td>\n",
       "      <td>1005.529720</td>\n",
       "      <td>1010.779182</td>\n",
       "      <td>-0.479858</td>\n",
       "      <td>0.000000</td>\n",
       "      <td>18.286590</td>\n",
       "      <td>0.465978</td>\n",
       "    </tr>\n",
       "    <tr>\n",
       "      <td>75%</td>\n",
       "      <td>402.975019</td>\n",
       "      <td>11.979646</td>\n",
       "      <td>1005.685838</td>\n",
       "      <td>1013.239116</td>\n",
       "      <td>1.030735</td>\n",
       "      <td>0.000000</td>\n",
       "      <td>24.304710</td>\n",
       "      <td>1.232962</td>\n",
       "    </tr>\n",
       "    <tr>\n",
       "      <td>max</td>\n",
       "      <td>639.870441</td>\n",
       "      <td>25.333300</td>\n",
       "      <td>1006.410361</td>\n",
       "      <td>1023.374850</td>\n",
       "      <td>49.074796</td>\n",
       "      <td>11.000000</td>\n",
       "      <td>46.359240</td>\n",
       "      <td>18.861649</td>\n",
       "    </tr>\n",
       "  </tbody>\n",
       "</table>\n",
       "</div>"
      ],
      "text/plain": [
       "                 Cc            Ah           Cpd           Cpm            Fc  \\\n",
       "count  54547.000000  54110.000000  54547.000000  54110.000000  54095.000000   \n",
       "mean     387.046948    -21.612224    990.035044   1005.033471  -2171.120089   \n",
       "std       28.343578    558.491735    413.171413    267.700634   4121.935023   \n",
       "min      275.125928  -9999.000000  -9999.000000  -9999.000000  -9999.000000   \n",
       "25%      365.902966      6.602857   1005.425000   1009.282747    -13.327562   \n",
       "50%      391.328154      8.655280   1005.529720   1010.779182     -0.479858   \n",
       "75%      402.975019     11.979646   1005.685838   1013.239116      1.030735   \n",
       "max      639.870441     25.333300   1006.410361   1023.374850     49.074796   \n",
       "\n",
       "             Precip            Ta          UxUx  \n",
       "count  54439.000000  54120.000000  54547.000000  \n",
       "mean       0.015144     13.030274    -76.884534  \n",
       "std        0.176173    243.648554    878.214313  \n",
       "min        0.000000  -9999.000000  -9999.000000  \n",
       "25%        0.000000     13.054928      0.157268  \n",
       "50%        0.000000     18.286590      0.465978  \n",
       "75%        0.000000     24.304710      1.232962  \n",
       "max       11.000000     46.359240     18.861649  "
      ]
     },
     "execution_count": 178,
     "metadata": {},
     "output_type": "execute_result"
    }
   ],
   "source": [
    "df_pca_tern.describe()"
   ]
  },
  {
   "cell_type": "code",
   "execution_count": 230,
   "metadata": {},
   "outputs": [],
   "source": [
    "df_pca_tern = df_tern.copy()\n",
    "df_pca_tern = df_pca_tern[df_pca_tern['Cc']>0]\n",
    "df_pca_tern.loc[(df_pca_tern['Cc']<352),'target'] = 1\n",
    "df_pca_tern.loc[((df_pca_tern['Cc']>352)&(df_pca_tern['Cc']<387)),'target'] = 2\n",
    "df_pca_tern.loc[(df_pca_tern['Cc']>387),'target'] = 3"
   ]
  },
  {
   "cell_type": "code",
   "execution_count": 231,
   "metadata": {},
   "outputs": [
    {
     "data": {
      "text/plain": [
       "array([3., 2., 1.])"
      ]
     },
     "execution_count": 231,
     "metadata": {},
     "output_type": "execute_result"
    }
   ],
   "source": [
    "df_pca_tern.target.fillna(1, inplace=True)\n",
    "df_pca_tern.fillna(0, inplace=True)\n",
    "df_pca_tern.target.unique()"
   ]
  },
  {
   "cell_type": "code",
   "execution_count": 232,
   "metadata": {},
   "outputs": [],
   "source": [
    "df_pca_tern.drop(columns=['time', 'state', 'date'], inplace=True)"
   ]
  },
  {
   "cell_type": "code",
   "execution_count": 203,
   "metadata": {},
   "outputs": [
    {
     "data": {
      "text/plain": [
       "Cc        float64\n",
       "Ah        float64\n",
       "Cpd       float64\n",
       "Cpm       float64\n",
       "Fc        float64\n",
       "Precip    float64\n",
       "Ta        float64\n",
       "UxUx      float64\n",
       "target    float64\n",
       "dtype: object"
      ]
     },
     "execution_count": 203,
     "metadata": {},
     "output_type": "execute_result"
    }
   ],
   "source": [
    "df_pca_tern.dtypes"
   ]
  },
  {
   "cell_type": "code",
   "execution_count": 216,
   "metadata": {},
   "outputs": [
    {
     "name": "stdout",
     "output_type": "stream",
     "text": [
      "explained variance ratio (first two components): [0.92493339 0.04247602]\n"
     ]
    },
    {
     "data": {
      "image/png": "[encoded data removed]",
      "text/plain": [
       "<Figure size 432x288 with 1 Axes>"
      ]
     },
     "metadata": {
      "needs_background": "light"
     },
     "output_type": "display_data"
    },
    {
     "data": {
      "image/png": "[encoded data removed]",
      "text/plain": [
       "<Figure size 432x288 with 1 Axes>"
      ]
     },
     "metadata": {
      "needs_background": "light"
     },
     "output_type": "display_data"
    }
   ],
   "source": [
    "import matplotlib.pyplot as plt\n",
    "\n",
    "from sklearn import datasets\n",
    "from sklearn.decomposition import PCA\n",
    "from sklearn.discriminant_analysis import LinearDiscriminantAnalysis\n",
    "\n",
    "X = df_pca_tern.drop(columns=['target'])\n",
    "y = df_pca_tern.target\n",
    "target_names = ['Low Risk', 'Medium Risk', 'High Risk']\n",
    "\n",
    "pca = PCA(n_components=2)\n",
    "X_r = pca.fit(X).transform(X)\n",
    "\n",
    "lda = LinearDiscriminantAnalysis(n_components=2)\n",
    "X_r2 = lda.fit(X, y).transform(X)\n",
    "\n",
    "# Percentage of variance explained for each components\n",
    "print('explained variance ratio (first two components): %s'\n",
    "      % str(pca.explained_variance_ratio_))\n",
    "\n",
    "plt.figure()\n",
    "colors = ['navy', 'turquoise', 'darkorange']\n",
    "lw = 2\n",
    "\n",
    "for color, i, target_name in zip(colors, [1, 2, 3], target_names):\n",
    "    plt.scatter(X_r[y == i, 0], X_r[y == i, 1], color=color, alpha=.8, lw=lw,\n",
    "                label=target_name)\n",
    "plt.legend(loc='best', shadow=False, scatterpoints=1)\n",
    "plt.title('PCA for climate change and emergency management')\n",
    "\n",
    "plt.figure()\n",
    "for color, i, target_name in zip(colors, [1, 2, 3], target_names):\n",
    "    plt.scatter(X_r2[y == i, 0], X_r2[y == i, 1], alpha=.8, color=color,\n",
    "                label=target_name)\n",
    "plt.legend(loc='best', shadow=False, scatterpoints=1)\n",
    "plt.title('LDA for climate change and emergency management')\n",
    "\n",
    "plt.show()"
   ]
  },
  {
   "cell_type": "markdown",
   "metadata": {},
   "source": [
    "**6.** Showcasing clustering for finding simillar territories"
   ]
  },
  {
   "cell_type": "markdown",
   "metadata": {},
   "source": [
    "This is for clustering all the states with simillarities. This can be applied worldwide"
   ]
  },
  {
   "cell_type": "code",
   "execution_count": 167,
   "metadata": {},
   "outputs": [],
   "source": [
    "import numpy as np\n",
    "import matplotlib.pyplot as plt\n",
    "from sklearn.cluster import KMeans\n",
    "from sklearn.datasets import make_blobs"
   ]
  },
  {
   "cell_type": "code",
   "execution_count": 243,
   "metadata": {},
   "outputs": [
    {
     "data": {
      "image/png": "[encoded data removed]",
      "text/plain": [
       "<Figure size 864x864 with 1 Axes>"
      ]
     },
     "metadata": {
      "needs_background": "light"
     },
     "output_type": "display_data"
    }
   ],
   "source": [
    "%matplotlib inline\n",
    "plt.figure(figsize=(12, 12))\n",
    "\n",
    "#X = df_pca_tern.drop(columns=['state_code']).values\n",
    "y = df_pca_tern.state_code.values\n",
    "#X = X_r2.copy()\n",
    "#X[:,0] = [item + random(1,100) for item in X_r2[:,0]]\n",
    "#X[:,1] = [item + random(1,100) for item in X_r2[:,1]]\n",
    "\n",
    "# Using the dataframe from before\n",
    "y_pred = KMeans(n_clusters=3, random_state=random_state).fit_predict(X_r2)\n",
    "\n",
    "plt.scatter(X[:, 0], X[:, 1], c=y_pred)\n",
    "plt.title(\"Incorrect association of regions\")\n",
    "plt.show()"
   ]
  },
  {
   "cell_type": "markdown",
   "metadata": {},
   "source": [
    "**7.** Running linear regression (Difference-in-Differences) and normal regression"
   ]
  },
  {
   "cell_type": "code",
   "execution_count": 252,
   "metadata": {},
   "outputs": [
    {
     "name": "stdout",
     "output_type": "stream",
     "text": [
      "54547\n",
      "Coefficients: \n",
      " [ 2.12878133e-02 -2.92710254e-01 -4.75907192e-01  4.06121210e-01\n",
      "  8.85304667e-05  5.27039862e-02  3.31379189e-03 -8.58655380e-03]\n",
      "Mean squared error: 67129.17\n",
      "Variance score: -130539.52\n"
     ]
    }
   ],
   "source": [
    "import matplotlib.pyplot as plt\n",
    "import numpy as np\n",
    "from sklearn import datasets, linear_model\n",
    "from sklearn.metrics import mean_squared_error, r2_score\n",
    "\n",
    "# Use only one feature\n",
    "climate_X = df_pca_tern.drop(columns=['state_code', 'target']).values\n",
    "print(len(climate_X))\n",
    "\n",
    "# Split the data into training/testing sets\n",
    "climate_X_train = climate_X[:2500]\n",
    "climate_X_test = climate_X[2500:]\n",
    "\n",
    "# Split the targets into training/testing sets\n",
    "climate_y_train = df_pca_tern.target[:2500]\n",
    "climate_y_test = df_pca_tern.target[2500:]\n",
    "\n",
    "# Create linear regression object\n",
    "regr = linear_model.LinearRegression()\n",
    "\n",
    "# Train the model using the training sets\n",
    "regr.fit(climate_X_train, climate_y_train)\n",
    "\n",
    "# Make predictions using the testing set\n",
    "climate_y_pred = regr.predict(climate_X_test)\n",
    "\n",
    "# The coefficients\n",
    "print('Coefficients: \\n', regr.coef_)\n",
    "# The mean squared error\n",
    "print(\"Mean squared error: %.2f\"\n",
    "      % mean_squared_error(climate_y_test, climate_y_pred))\n",
    "# Explained variance score: 1 is perfect prediction\n",
    "print('Variance score: %.2f' % r2_score(climate_y_test, climate_y_pred))\n",
    "\n",
    "# Plot outputs\n",
    "#plt.scatter(climate_X_test, climate_y_test,  color='black')\n",
    "#plt.plot(climate_X_test, climate_y_pred, color='blue', linewidth=3)\n",
    "\n",
    "#plt.xticks(())\n",
    "#plt.yticks(())\n",
    "\n",
    "#plt.show()"
   ]
  },
  {
   "cell_type": "code",
   "execution_count": null,
   "metadata": {},
   "outputs": [],
   "source": []
  }
 ],
 "metadata": {
  "kernelspec": {
   "display_name": "Python 3",
   "language": "python",
   "name": "python3"
  },
  "language_info": {
   "codemirror_mode": {
    "name": "ipython",
    "version": 3
   },
   "file_extension": ".py",
   "mimetype": "text/x-python",
   "name": "python",
   "nbconvert_exporter": "python",
   "pygments_lexer": "ipython3",
   "version": "3.7.4"
  }
 },
 "nbformat": 4,
 "nbformat_minor": 4
}
